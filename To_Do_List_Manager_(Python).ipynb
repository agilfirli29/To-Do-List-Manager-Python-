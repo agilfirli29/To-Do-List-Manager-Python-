{
  "cells": [
    {
      "cell_type": "markdown",
      "metadata": {
        "id": "0st0Bs81k8K4"
      },
      "source": [
        "# **To Do List Manager (Python)**"
      ]
    },
    {
      "cell_type": "code",
      "execution_count": null,
      "metadata": {
        "colab": {
          "background_save": true
        },
        "id": "Bl1OpA_1oc4t"
      },
      "outputs": [],
      "source": [
        "class ToDoList:\n",
        "    def __init__(self):\n",
        "        self.tasks = []\n",
        "\n",
        "    def add_task(self, task):\n",
        "        self.tasks.append(task)\n",
        "        print(f'Task \"{task}\" added to the list.')\n",
        "\n",
        "    def remove_task(self, task):\n",
        "        if task in self.tasks:\n",
        "            self.tasks.remove(task)\n",
        "            print(f'Task \"{task}\" removed from the list.')\n",
        "        else:\n",
        "            print(f'Task \"{task}\" not found in the list.')\n",
        "\n",
        "    def view_tasks(self):\n",
        "        if not self.tasks:\n",
        "            print(\"No tasks in the list.\")\n",
        "        else:\n",
        "            print(\"To-Do List:\")\n",
        "            for index, task in enumerate(self.tasks, start=1):\n",
        "                print(f\"{index}. {task}\")\n",
        "\n",
        "def main():\n",
        "    todo_list = ToDoList()\n",
        "\n",
        "    while True:\n",
        "        print(\"\\nTo-Do List Manager\")\n",
        "        print(\"1. Add Task\")\n",
        "        print(\"2. Remove Task\")\n",
        "        print(\"3. View Tasks\")\n",
        "        print(\"4. Exit\")\n",
        "\n",
        "        choice = input(\"Choose an option (1/2/3/4): \")\n",
        "\n",
        "        if choice == '1':\n",
        "            task = input(\"Enter the task: \")\n",
        "            todo_list.add_task(task)\n",
        "\n",
        "        elif choice == '2':\n",
        "            task = input(\"Enter the task to remove: \")\n",
        "            todo_list.remove_task(task)\n",
        "\n",
        "        elif choice == '3':\n",
        "            todo_list.view_tasks()\n",
        "\n",
        "        elif choice == '4':\n",
        "            print(\"Thank you for using the To Do List Manager\")\n",
        "            break\n",
        "\n",
        "        else:\n",
        "            print(\"Invalid choice! Please select a valid option.\")\n",
        "\n",
        "if __name__ == \"__main__\":\n",
        "    main()"
      ]
    }
  ],
  "metadata": {
    "colab": {
      "provenance": []
    },
    "kernelspec": {
      "display_name": "Python 3",
      "name": "python3"
    },
    "language_info": {
      "name": "python"
    }
  },
  "nbformat": 4,
  "nbformat_minor": 0
}